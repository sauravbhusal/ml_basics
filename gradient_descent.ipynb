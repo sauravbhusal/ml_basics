{
 "cells": [
  {
   "cell_type": "code",
   "execution_count": 40,
   "id": "5a6c4b16",
   "metadata": {},
   "outputs": [],
   "source": [
    "import torch\n",
    "import torch.nn as nn\n",
    "from torch.optim import SGD\n",
    "import numpy as np\n",
    "import matplotlib.pyplot as plt"
   ]
  },
  {
   "cell_type": "code",
   "execution_count": 41,
   "id": "b65c43b1",
   "metadata": {},
   "outputs": [],
   "source": [
    "#defining independent and dependent variables\n",
    "\n",
    "#independent variable\n",
    "x = torch.tensor([[6,2],[5,2],[1,3],[7,6]]).float()\n",
    "\n",
    "#dependent variable\n",
    "y = torch.tensor([1,5,2,5]).float()"
   ]
  },
  {
   "cell_type": "code",
   "execution_count": 42,
   "id": "d63070b6",
   "metadata": {},
   "outputs": [
    {
     "data": {
      "text/plain": [
       "tensor([[6., 2.],\n",
       "        [5., 2.],\n",
       "        [1., 3.],\n",
       "        [7., 6.]])"
      ]
     },
     "execution_count": 42,
     "metadata": {},
     "output_type": "execute_result"
    }
   ],
   "source": [
    "x"
   ]
  },
  {
   "cell_type": "code",
   "execution_count": 43,
   "id": "563922bc",
   "metadata": {},
   "outputs": [
    {
     "data": {
      "text/plain": [
       "tensor([1., 5., 2., 5.])"
      ]
     },
     "execution_count": 43,
     "metadata": {},
     "output_type": "execute_result"
    }
   ],
   "source": [
    "y"
   ]
  },
  {
   "cell_type": "code",
   "execution_count": 44,
   "id": "68d3db71",
   "metadata": {},
   "outputs": [
    {
     "data": {
      "text/plain": [
       "Linear(in_features=2, out_features=8, bias=False)"
      ]
     },
     "execution_count": 44,
     "metadata": {},
     "output_type": "execute_result"
    }
   ],
   "source": [
    "#creating our first matrix that accepts 2d vector and convert it into 8D vector\n",
    "\n",
    "M1 = nn.Linear(2,8,bias=False)\n",
    "M1"
   ]
  },
  {
   "cell_type": "code",
   "execution_count": 45,
   "id": "e8edb0e6",
   "metadata": {},
   "outputs": [
    {
     "data": {
      "text/plain": [
       "tensor([[-0.8441,  0.9971, -2.8122,  0.0725,  2.7069,  1.5585,  2.0034, -1.3700],\n",
       "        [-0.8611,  0.9498, -2.3104,  0.2831,  2.2139,  1.5321,  1.6255, -1.1492],\n",
       "        [-1.4020,  1.1172, -0.2038,  1.7937,  0.1166,  2.1259, -0.0184, -0.2886],\n",
       "        [-2.7191,  2.4709, -2.9167,  2.5342,  2.6980,  4.3842,  1.8529, -1.6811]],\n",
       "       grad_fn=<MmBackward0>)"
      ]
     },
     "execution_count": 45,
     "metadata": {},
     "output_type": "execute_result"
    }
   ],
   "source": [
    "M1(x)"
   ]
  },
  {
   "cell_type": "code",
   "execution_count": 46,
   "id": "faaa501b",
   "metadata": {},
   "outputs": [
    {
     "data": {
      "text/plain": [
       "Linear(in_features=8, out_features=1, bias=False)"
      ]
     },
     "execution_count": 46,
     "metadata": {},
     "output_type": "execute_result"
    }
   ],
   "source": [
    "#creating our second matrix that accepts 8D vector and convert it into 1D vector\n",
    "\n",
    "M2 = nn.Linear(8,1,bias=False)\n",
    "M2"
   ]
  },
  {
   "cell_type": "code",
   "execution_count": 47,
   "id": "cdb07bc9",
   "metadata": {},
   "outputs": [
    {
     "data": {
      "text/plain": [
       "tensor([[-1.5966],\n",
       "        [-1.2879],\n",
       "        [ 0.0745],\n",
       "        [-1.3943]], grad_fn=<MmBackward0>)"
      ]
     },
     "execution_count": 47,
     "metadata": {},
     "output_type": "execute_result"
    }
   ],
   "source": [
    "M2(M1(x))"
   ]
  },
  {
   "cell_type": "code",
   "execution_count": 48,
   "id": "5122d0fc",
   "metadata": {},
   "outputs": [
    {
     "data": {
      "text/plain": [
       "tensor([-1.5966, -1.2879,  0.0745, -1.3943], grad_fn=<SqueezeBackward0>)"
      ]
     },
     "execution_count": 48,
     "metadata": {},
     "output_type": "execute_result"
    }
   ],
   "source": [
    " M2(M1(x)).squeeze()"
   ]
  },
  {
   "cell_type": "code",
   "execution_count": 49,
   "id": "7f3d04af",
   "metadata": {},
   "outputs": [
    {
     "data": {
      "text/plain": [
       "tensor([1., 5., 2., 5.])"
      ]
     },
     "execution_count": 49,
     "metadata": {},
     "output_type": "execute_result"
    }
   ],
   "source": [
    "y"
   ]
  },
  {
   "cell_type": "code",
   "execution_count": 69,
   "id": "fc317b80",
   "metadata": {},
   "outputs": [],
   "source": [
    "#constructing a network using cubclass of nn.Module\n",
    "class MyNeuralNet(nn.Module):\n",
    "    def __init__(self):\n",
    "        super().__init__()\n",
    "        self.Matrix1 = nn.Linear(2,8,bias=False)\n",
    "        self.Matrix2 = nn.Linear(8,1,bias=False)\n",
    "        \n",
    "    def forward(self,x):\n",
    "        x = self.Matrix1(x)\n",
    "        x = self.Matrix2(x)\n",
    "        return x.squeeze()\n",
    "        "
   ]
  },
  {
   "cell_type": "code",
   "execution_count": 70,
   "id": "9d281c3f",
   "metadata": {},
   "outputs": [],
   "source": [
    "f = MyNeuralNet()"
   ]
  },
  {
   "cell_type": "code",
   "execution_count": 71,
   "id": "b78cf4ec",
   "metadata": {},
   "outputs": [
    {
     "name": "stdout",
     "output_type": "stream",
     "text": [
      "Parameter containing:\n",
      "tensor([[-0.0654,  0.4189],\n",
      "        [-0.4644,  0.1700],\n",
      "        [ 0.5537, -0.4261],\n",
      "        [ 0.0779, -0.6838],\n",
      "        [-0.5769,  0.5819],\n",
      "        [-0.5819, -0.1580],\n",
      "        [-0.5423, -0.1852],\n",
      "        [-0.4241,  0.2002]], requires_grad=True)\n",
      "Parameter containing:\n",
      "tensor([[ 0.2506, -0.0765, -0.3479, -0.2819, -0.1049,  0.1237, -0.3141, -0.1799]],\n",
      "       requires_grad=True)\n"
     ]
    }
   ],
   "source": [
    "for par in f.parameters():\n",
    "    print(par)"
   ]
  },
  {
   "cell_type": "code",
   "execution_count": 74,
   "id": "936bde43",
   "metadata": {},
   "outputs": [
    {
     "data": {
      "text/plain": [
       "tensor([0.9876, 0.9479, 1.1633, 2.5255], grad_fn=<SqueezeBackward0>)"
      ]
     },
     "execution_count": 74,
     "metadata": {},
     "output_type": "execute_result"
    }
   ],
   "source": [
    "yhat = f(x)\n",
    "yhat"
   ]
  },
  {
   "cell_type": "code",
   "execution_count": 76,
   "id": "f1ae61e9",
   "metadata": {},
   "outputs": [
    {
     "data": {
      "text/plain": [
       "tensor(5.8108, grad_fn=<MseLossBackward0>)"
      ]
     },
     "execution_count": 76,
     "metadata": {},
     "output_type": "execute_result"
    }
   ],
   "source": [
    "#calculating the mean square error between y and yhat\n",
    "L = nn.MSELoss()\n",
    "L(y,yhat)"
   ]
  },
  {
   "cell_type": "code",
   "execution_count": 77,
   "id": "c2508d59",
   "metadata": {},
   "outputs": [],
   "source": [
    "#optimizer\n",
    "opt = SGD(f.parameters(), lr=0.001)"
   ]
  },
  {
   "cell_type": "code",
   "execution_count": 86,
   "id": "4d2d61dd",
   "metadata": {},
   "outputs": [],
   "source": [
    "losses = []\n",
    "for _ in range(500):\n",
    "    opt.zero_grad() #flush previous epoch's gradient\n",
    "    loss_value = L(f(x),y) #compute loss\n",
    "    loss_value.backward() #compute gradient\n",
    "    opt.step()\n",
    "    losses.append(loss_value.item())\n"
   ]
  },
  {
   "cell_type": "code",
   "execution_count": 87,
   "id": "09b0202b",
   "metadata": {},
   "outputs": [
    {
     "data": {
      "text/plain": [
       "Text(0.5, 0, 'Epochs')"
      ]
     },
     "execution_count": 87,
     "metadata": {},
     "output_type": "execute_result"
    },
    {
     "data": {
      "image/png": "[encoded data removed]",
      "text/plain": [
       "<Figure size 432x288 with 1 Axes>"
      ]
     },
     "metadata": {
      "needs_background": "light"
     },
     "output_type": "display_data"
    }
   ],
   "source": [
    "plt.plot(losses)\n",
    "plt.ylabel('Loss')\n",
    "plt.xlabel('Epochs')"
   ]
  },
  {
   "cell_type": "code",
   "execution_count": 88,
   "id": "83d32802",
   "metadata": {},
   "outputs": [
    {
     "data": {
      "text/plain": [
       "tensor([1., 5., 2., 5.])"
      ]
     },
     "execution_count": 88,
     "metadata": {},
     "output_type": "execute_result"
    }
   ],
   "source": [
    "y"
   ]
  },
  {
   "cell_type": "code",
   "execution_count": 92,
   "id": "7a5c1a70",
   "metadata": {},
   "outputs": [
    {
     "data": {
      "text/plain": [
       "tensor([0.9876, 0.9479, 1.1633, 2.5255], grad_fn=<SqueezeBackward0>)"
      ]
     },
     "execution_count": 92,
     "metadata": {},
     "output_type": "execute_result"
    }
   ],
   "source": [
    "yhat"
   ]
  },
  {
   "cell_type": "code",
   "execution_count": null,
   "id": "87f3137c",
   "metadata": {},
   "outputs": [],
   "source": []
  }
 ],
 "metadata": {
  "kernelspec": {
   "display_name": "Python 3 (ipykernel)",
   "language": "python",
   "name": "python3"
  },
  "language_info": {
   "codemirror_mode": {
    "name": "ipython",
    "version": 3
   },
   "file_extension": ".py",
   "mimetype": "text/x-python",
   "name": "python",
   "nbconvert_exporter": "python",
   "pygments_lexer": "ipython3",
   "version": "3.10.6"
  }
 },
 "nbformat": 4,
 "nbformat_minor": 5
}
